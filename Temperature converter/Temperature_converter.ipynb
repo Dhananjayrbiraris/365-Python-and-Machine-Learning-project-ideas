import ipywidgets as widgets
from IPython.display import display, clear_output

def celsius_to_fahrenheit(celsius):
    return (celsius * 9/5) + 32

def fahrenheit_to_celsius(fahrenheit):
    return (fahrenheit - 32) * 5/9

def convert_temperature(change):
    clear_output(wait=True)
    try:
        if conversion_dropdown.value == 'Celsius to Fahrenheit':
            result = celsius_to_fahrenheit(float(input_temperature.value))
            result_label.value = f"{input_temperature.value} °C is {result:.2f} °F"
        elif conversion_dropdown.value == 'Fahrenheit to Celsius':
            result = fahrenheit_to_celsius(float(input_temperature.value))
            result_label.value = f"{input_temperature.value} °F is {result:.2f} °C"
    except ValueError:
        result_label.value = "Please enter a valid number"

# Input widget for temperature
input_temperature = widgets.Text(
    value='',
    placeholder='Enter temperature',
    description='Temp:',
    disabled=False
)

# Dropdown for conversion type
conversion_dropdown = widgets.Dropdown(
    options=['Celsius to Fahrenheit', 'Fahrenheit to Celsius'],
    value='Celsius to Fahrenheit',
    description='Convert:',
    disabled=False
)

# Button to trigger conversion
convert_button = widgets.Button(
    description='Convert',
    disabled=False,
    button_style='', # 'success', 'info', 'warning', 'danger' or ''
    tooltip='Click to convert temperature'
)

# Label to display the result
result_label = widgets.Label(value="")

# Link the button click event to the conversion function
convert_button.on_click(convert_temperature)

# Display the widgets
display(input_temperature, conversion_dropdown, convert_button, result_label)
